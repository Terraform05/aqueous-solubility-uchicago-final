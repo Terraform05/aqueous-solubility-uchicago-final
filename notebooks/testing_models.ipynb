{
 "cells": [
  {
   "cell_type": "code",
   "execution_count": 17,
   "metadata": {},
   "outputs": [],
   "source": [
    "from util import load_model\n",
    "random_forest = load_model(\"adaboost\")\n",
    "\n",
    "import pandas as pd\n",
    "from rdkit.ML.Descriptors.MoleculeDescriptors import MolecularDescriptorCalculator\n",
    "from rdkit import Chem\n",
    "\n",
    "from sklearn.metrics import mean_squared_error, r2_score\n",
    "\n",
    "from pickle import load\n",
    "descriptors = load(open(\"./descriptors.pkl\", \"rb\"))\n",
    "descriptor = MolecularDescriptorCalculator(descriptors)\n",
    "\n",
    "from rdkit import rdBase\n",
    "blocker = rdBase.BlockLogs()"
   ]
  },
  {
   "cell_type": "code",
   "execution_count": 3,
   "metadata": {},
   "outputs": [
    {
     "data": {
      "text/html": [
       "<div>\n",
       "<style scoped>\n",
       "    .dataframe tbody tr th:only-of-type {\n",
       "        vertical-align: middle;\n",
       "    }\n",
       "\n",
       "    .dataframe tbody tr th {\n",
       "        vertical-align: top;\n",
       "    }\n",
       "\n",
       "    .dataframe thead th {\n",
       "        text-align: right;\n",
       "    }\n",
       "</style>\n",
       "<table border=\"1\" class=\"dataframe\">\n",
       "  <thead>\n",
       "    <tr style=\"text-align: right;\">\n",
       "      <th></th>\n",
       "      <th>Compound ID</th>\n",
       "      <th>measured log(solubility:mol/L)</th>\n",
       "      <th>ESOL predicted log(solubility:mol/L)</th>\n",
       "      <th>SMILES</th>\n",
       "    </tr>\n",
       "  </thead>\n",
       "  <tbody>\n",
       "    <tr>\n",
       "      <th>0</th>\n",
       "      <td>1,1,1,2-Tetrachloroethane</td>\n",
       "      <td>-2.18</td>\n",
       "      <td>-2.794</td>\n",
       "      <td>ClCC(Cl)(Cl)Cl</td>\n",
       "    </tr>\n",
       "    <tr>\n",
       "      <th>1</th>\n",
       "      <td>1,1,1-Trichloroethane</td>\n",
       "      <td>-2.00</td>\n",
       "      <td>-2.232</td>\n",
       "      <td>CC(Cl)(Cl)Cl</td>\n",
       "    </tr>\n",
       "    <tr>\n",
       "      <th>2</th>\n",
       "      <td>1,1,2,2-Tetrachloroethane</td>\n",
       "      <td>-1.74</td>\n",
       "      <td>-2.549</td>\n",
       "      <td>ClC(Cl)C(Cl)Cl</td>\n",
       "    </tr>\n",
       "    <tr>\n",
       "      <th>3</th>\n",
       "      <td>1,1,2-Trichloroethane</td>\n",
       "      <td>-1.48</td>\n",
       "      <td>-1.961</td>\n",
       "      <td>ClCC(Cl)Cl</td>\n",
       "    </tr>\n",
       "    <tr>\n",
       "      <th>4</th>\n",
       "      <td>1,1,2-Trichlorotrifluoroethane</td>\n",
       "      <td>-3.04</td>\n",
       "      <td>-3.077</td>\n",
       "      <td>FC(F)(Cl)C(F)(Cl)Cl</td>\n",
       "    </tr>\n",
       "  </tbody>\n",
       "</table>\n",
       "</div>"
      ],
      "text/plain": [
       "                      Compound ID  measured log(solubility:mol/L)  \\\n",
       "0       1,1,1,2-Tetrachloroethane                           -2.18   \n",
       "1           1,1,1-Trichloroethane                           -2.00   \n",
       "2       1,1,2,2-Tetrachloroethane                           -1.74   \n",
       "3           1,1,2-Trichloroethane                           -1.48   \n",
       "4  1,1,2-Trichlorotrifluoroethane                           -3.04   \n",
       "\n",
       "   ESOL predicted log(solubility:mol/L)               SMILES  \n",
       "0                                -2.794       ClCC(Cl)(Cl)Cl  \n",
       "1                                -2.232         CC(Cl)(Cl)Cl  \n",
       "2                                -2.549       ClC(Cl)C(Cl)Cl  \n",
       "3                                -1.961           ClCC(Cl)Cl  \n",
       "4                                -3.077  FC(F)(Cl)C(F)(Cl)Cl  "
      ]
     },
     "execution_count": 3,
     "metadata": {},
     "output_type": "execute_result"
    }
   ],
   "source": [
    "train_df = pd.read_csv(\"../data/aqsoldb.csv\")\n",
    "\n",
    "df = pd.read_csv(\"../data/delaney.csv\")\n",
    "df.head()"
   ]
  },
  {
   "cell_type": "code",
   "execution_count": 6,
   "metadata": {},
   "outputs": [
    {
     "name": "stdout",
     "output_type": "stream",
     "text": [
      "18 of 1144 are unique\n"
     ]
    }
   ],
   "source": [
    "train_smiles = train_df[\"SMILES\"].values\n",
    "new_smiles = df[\"SMILES\"].values\n",
    "\n",
    "train_smiles = [Chem.MolToSmiles(Chem.MolFromSmiles(x)) for x in train_smiles]\n",
    "new_smiles = [Chem.MolToSmiles(Chem.MolFromSmiles(x)) for x in new_smiles]\n",
    "\n",
    "non_similar = [x for x in new_smiles if x not in train_smiles]\n",
    "non_similar_indicies = [i for i, x in enumerate(new_smiles) if x not in train_smiles]\n",
    "print(f\"{len(non_similar)} of {len(new_smiles)} are unique\")\n",
    "\n",
    "mols = [Chem.MolFromSmiles(x) for x in non_similar]"
   ]
  },
  {
   "cell_type": "code",
   "execution_count": 7,
   "metadata": {},
   "outputs": [],
   "source": [
    "smiles = df[\"SMILES\"]\n",
    "feats = [descriptor.CalcDescriptors(mol) for mol in mols]"
   ]
  },
  {
   "cell_type": "code",
   "execution_count": 18,
   "metadata": {},
   "outputs": [
    {
     "name": "stdout",
     "output_type": "stream",
     "text": [
      "RMSE: 0.8835414216745759\n",
      "R2: 0.41423122402220314\n",
      "\n",
      "Pred: -1.9240 | Real: -1.4040 | Error: 0.5200  | ClCC(Cl)(Cl)Cl\n",
      "Pred: -1.2630 | Real: -1.6550 | Error: -0.3920 | CC(Cl)(Cl)Cl\n",
      "Pred: -1.2630 | Real: -1.6550 | Error: -0.3920 | ClC(Cl)C(Cl)Cl\n",
      "Pred: -1.9757 | Real: -2.7250 | Error: -0.7493 | ClCC(Cl)Cl\n",
      "Pred: -1.6637 | Real: -0.8400 | Error: 0.8237  | FC(F)(Cl)C(F)(Cl)Cl\n",
      "Pred: -1.2630 | Real: -0.6740 | Error: 0.5890  | CC(Cl)Cl\n",
      "Pred: -1.4393 | Real: -2.2100 | Error: -0.7707 | ClC(=C)Cl\n",
      "Pred: -1.2995 | Real: 0.0510  | Error: 1.3505  | CCOC(C)OCC\n",
      "Pred: -1.9057 | Real: -3.5700 | Error: -1.6643 | Clc1ccc(Cl)c(Cl)c1Cl\n",
      "Pred: -1.9770 | Real: -2.7320 | Error: -0.7550 | C1CCc2ccccc2C1\n",
      "Pred: -1.6422 | Real: -0.6700 | Error: 0.9722  | Clc1cc(Cl)c(Cl)c(Cl)c1\n",
      "Pred: -1.6341 | Real: -0.6560 | Error: 0.9781  | Clc1cccc(Cl)c1Cl\n",
      "Pred: -1.9770 | Real: -0.8340 | Error: 1.1430  | Cc1cccc(C)c1C\n",
      "Pred: -1.9057 | Real: -1.7400 | Error: 0.1657  | Brc1cc(Br)c(Br)cc1Br\n",
      "Pred: -3.5814 | Real: -4.1180 | Error: -0.5366 | Clc1cc(Cl)c(Cl)cc1Cl\n",
      "Pred: -2.3974 | Real: -3.4110 | Error: -1.0136 | Cc1cc(C)c(C)cc1C\n",
      "Pred: -1.9240 | Real: -0.7060 | Error: 1.2180  | c1(Br)c(Br)cc(Br)cc1\n",
      "Pred: -1.2995 | Real: -0.9920 | Error: 0.3075  | Clc1ccc(Cl)c(Cl)c1\n"
     ]
    }
   ],
   "source": [
    "preds = random_forest.predict(feats)\n",
    "real = df[\"ESOL predicted log(solubility:mol/L)\"].values[non_similar_indicies]\n",
    "\n",
    "print(f\"RMSE: {mean_squared_error(real, preds, squared=False)}\")\n",
    "print(f\"R2: {r2_score(real, preds)}\")\n",
    "print()\n",
    "\n",
    "for i, (p, r) in enumerate(zip(preds, real)):\n",
    "    smiles = df[\"SMILES\"][i]\n",
    "    print(f\"{f'Pred: {p:.4f}'.ljust(13)} | {f'Real: {r:.4f}'.ljust(13)} | {f'Error: {(r - p):.4f}'.ljust(14)} | {smiles}\")"
   ]
  }
 ],
 "metadata": {
  "kernelspec": {
   "display_name": "uchicago-final-sV35DOeG-py3.10",
   "language": "python",
   "name": "python3"
  },
  "language_info": {
   "codemirror_mode": {
    "name": "ipython",
    "version": 3
   },
   "file_extension": ".py",
   "mimetype": "text/x-python",
   "name": "python",
   "nbconvert_exporter": "python",
   "pygments_lexer": "ipython3",
   "version": "3.10.7"
  },
  "orig_nbformat": 4
 },
 "nbformat": 4,
 "nbformat_minor": 2
}
